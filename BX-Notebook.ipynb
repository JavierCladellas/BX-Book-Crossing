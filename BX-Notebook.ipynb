{
  "nbformat": 4,
  "nbformat_minor": 0,
  "metadata": {
    "colab": {
      "name": "Parte1.ipynb",
      "provenance": [],
      "collapsed_sections": [
        "JFKcv5baJ_bf",
        "-xo8n1yvLddM",
        "EdEW91cKo5o5",
        "yl38EcNb-lau"
      ]
    },
    "kernelspec": {
      "display_name": "Python 3",
      "name": "python3"
    }
  },
  "cells": [
    {
      "cell_type": "code",
      "metadata": {
        "id": "Je1ddUkI6hNr"
      },
      "source": [
        "import pandas as pd\r\n",
        "import numpy as np\r\n",
        "from scipy.sparse import csr_matrix\r\n",
        "import matplotlib.pyplot as plt\r\n",
        "import matplotlib.ticker as mticker\r\n",
        "\r\n",
        "from sklearn.neighbors import NearestNeighbors\r\n",
        "from sklearn.metrics import classification_report, confusion_matrix"
      ],
      "execution_count": null,
      "outputs": []
    },
    {
      "cell_type": "code",
      "metadata": {
        "colab": {
          "base_uri": "https://localhost:8080/"
        },
        "id": "MHk_GtITyvEN",
        "outputId": "6547de5b-5c1a-4279-8a58-2245c9d39c36"
      },
      "source": [
        "from google.colab import drive\r\n",
        "drive.mount(\"/content/drive\")"
      ],
      "execution_count": null,
      "outputs": [
        {
          "output_type": "stream",
          "text": [
            "Drive already mounted at /content/drive; to attempt to forcibly remount, call drive.mount(\"/content/drive\", force_remount=True).\n"
          ],
          "name": "stdout"
        }
      ]
    },
    {
      "cell_type": "code",
      "metadata": {
        "id": "mipjmjX672dY"
      },
      "source": [
        "users = pd.read_csv(\"/content/drive/MyDrive/Colab Notebooks/SSF/BX-Users.csv\",sep=\";\", encoding='utf-8')\r\n",
        "ratings = pd.read_csv(\"/content/drive/MyDrive/Colab Notebooks/SSF/BX-Book-Ratings.csv\",sep=\";\", encoding=\"unicode_escape\")\r\n",
        "books = pd.read_csv(\"/content/drive/MyDrive/Colab Notebooks/SSF/BX-Books.csv\",sep = ';', escapechar='\\\\', encoding='UTF-8')"
      ],
      "execution_count": null,
      "outputs": []
    },
    {
      "cell_type": "markdown",
      "metadata": {
        "id": "JFKcv5baJ_bf"
      },
      "source": [
        "# Limpieza de Users"
      ]
    },
    {
      "cell_type": "code",
      "metadata": {
        "colab": {
          "base_uri": "https://localhost:8080/"
        },
        "id": "X99e0uAm-T-g",
        "outputId": "41636b4f-a2c8-4505-e608-9d8dc3435cd2"
      },
      "source": [
        "print(\"Users shape: \" + str(users.shape))\r\n",
        "print(\"User types: \\n\" + str(users.dtypes))\r\n",
        "print(\"User types: \\n\" + str(users.columns))\r\n",
        "print(\"Users head: \\n\" + str(users.head()) +\"\\n\")"
      ],
      "execution_count": null,
      "outputs": [
        {
          "output_type": "stream",
          "text": [
            "Users shape: (278858, 3)\n",
            "User types: \n",
            "User-ID       int64\n",
            "Location     object\n",
            "Age         float64\n",
            "dtype: object\n",
            "User types: \n",
            "Index(['User-ID', 'Location', 'Age'], dtype='object')\n",
            "Users head: \n",
            "   User-ID                            Location   Age\n",
            "0        1                  nyc, new york, usa   NaN\n",
            "1        2           stockton, california, usa  18.0\n",
            "2        3     moscow, yukon territory, russia   NaN\n",
            "3        4           porto, v.n.gaia, portugal  17.0\n",
            "4        5  farnborough, hants, united kingdom   NaN\n",
            "\n"
          ],
          "name": "stdout"
        }
      ]
    },
    {
      "cell_type": "markdown",
      "metadata": {
        "id": "EtmtW5txHgBT"
      },
      "source": [
        "Limpio la tabla de usuarios eliminando:\r\n",
        "*   Usuarios cuyo ID no esté  entre 1 y 278858\r\n",
        "*   Registros con ID duplicados\r\n",
        "Indexo la tabla con User-ID"
      ]
    },
    {
      "cell_type": "code",
      "metadata": {
        "id": "y3hEj3hW-0fp"
      },
      "source": [
        "users_before = users.shape[0]\r\n",
        "users.where((users[\"User-ID\"]>=1) & (users[\"User-ID\"]<=278858), inplace=True)\r\n",
        "users.drop_duplicates(subset =\"User-ID\", keep = False, inplace = True)\r\n",
        "users.set_index(\"User-ID\",inplace=True)"
      ],
      "execution_count": null,
      "outputs": []
    },
    {
      "cell_type": "code",
      "metadata": {
        "colab": {
          "base_uri": "https://localhost:8080/"
        },
        "id": "WaAjZWElIEvp",
        "outputId": "ab954e27-56d8-4722-e0a9-78a828446b62"
      },
      "source": [
        "print(\"Usuarios eliminados:\\n\"+ str(users_before - users.shape[0] )+\" usuarios\")"
      ],
      "execution_count": null,
      "outputs": [
        {
          "output_type": "stream",
          "text": [
            "Usuarios eliminados:\n",
            "0 usuarios\n"
          ],
          "name": "stdout"
        }
      ]
    },
    {
      "cell_type": "markdown",
      "metadata": {
        "id": "baq1sGfuIeaW"
      },
      "source": [
        "Separo la columna location usando ',' como separador. <br>\r\n",
        "Guardo cada campo en columnas diferentes.<br>\r\n",
        "Limpio de nuevo la tabla users, eliminando líneas que contengan los siguientes caracteres en la columna \"Country\":\r\n",
        "*   Vacío\r\n",
        "*   \"\r\n",
        "*   .\r\n",
        "*   ;\r\n",
        "*   ,"
      ]
    },
    {
      "cell_type": "code",
      "metadata": {
        "colab": {
          "base_uri": "https://localhost:8080/"
        },
        "id": "iKTOfatc-3wt",
        "outputId": "ee176bb2-bb94-46af-fdd9-08b8a92ad8fb"
      },
      "source": [
        "users_before = users.shape[0]\r\n",
        "location = users[\"Location\"].str.split(pat=\",\",n=2,expand=True,).fillna('')\r\n",
        "users[\"City\"] = location[0]\r\n",
        "users[\"Region\"] = location[1]\r\n",
        "users[\"Country\"] = location[2]\r\n",
        "users.drop(['Location'], axis=1,inplace=True)\r\n",
        "users = users[~users[\"Country\"].str.contains(r'^$|\\\"|\\.|;|,')]\r\n",
        "print(users)"
      ],
      "execution_count": null,
      "outputs": [
        {
          "output_type": "stream",
          "text": [
            "          Age         City            Region          Country\n",
            "User-ID                                                      \n",
            "1         NaN          nyc          new york              usa\n",
            "2        18.0     stockton        california              usa\n",
            "3         NaN       moscow   yukon territory           russia\n",
            "4        17.0        porto          v.n.gaia         portugal\n",
            "5         NaN  farnborough             hants   united kingdom\n",
            "...       ...          ...               ...              ...\n",
            "278854    NaN     portland            oregon              usa\n",
            "278855   50.0       tacoma        washington   united kingdom\n",
            "278856    NaN     brampton           ontario           canada\n",
            "278857    NaN    knoxville         tennessee              usa\n",
            "278858    NaN       dublin               n/a          ireland\n",
            "\n",
            "[272062 rows x 4 columns]\n"
          ],
          "name": "stdout"
        }
      ]
    },
    {
      "cell_type": "code",
      "metadata": {
        "colab": {
          "base_uri": "https://localhost:8080/"
        },
        "id": "6Bm4b2RAIqE1",
        "outputId": "ec84e3ed-6f82-41bd-df1a-6613888d6770"
      },
      "source": [
        "print(\"Usuarios eliminados:\\n\"+ str(users_before - users.shape[0] )+\" usuarios\")"
      ],
      "execution_count": null,
      "outputs": [
        {
          "output_type": "stream",
          "text": [
            "Usuarios eliminados:\n",
            "6796 usuarios\n"
          ],
          "name": "stdout"
        }
      ]
    },
    {
      "cell_type": "markdown",
      "metadata": {
        "id": "iOVjE6XbJhHc"
      },
      "source": [
        "Si el valor de \"Age\" es inferior a 12 o superior a 100, lo hago nulo. <br>\r\n",
        "Luego lleno los valores vacíos con el valor 0.  "
      ]
    },
    {
      "cell_type": "code",
      "metadata": {
        "id": "dTGJ--jV-_fI"
      },
      "source": [
        "users.loc[users[\"Age\"] > 100, \"Age\"] = None\r\n",
        "users.loc[users[\"Age\"] < 12, \"Age\"] = None\r\n",
        "users['Age'] = users['Age'].fillna(0).astype(int) "
      ],
      "execution_count": null,
      "outputs": []
    },
    {
      "cell_type": "markdown",
      "metadata": {
        "id": "MSdu-6rXJ5fk"
      },
      "source": [
        "# Limpieza de Ratings"
      ]
    },
    {
      "cell_type": "code",
      "metadata": {
        "colab": {
          "base_uri": "https://localhost:8080/"
        },
        "id": "Ueak3CNX_CQd",
        "outputId": "1502daab-64f5-4940-adda-ede3717623be"
      },
      "source": [
        "print(\"Ratings shape: \" + str(ratings.shape)+\"\\n\")\r\n",
        "print(\"Ratings types:\\n \" + str(ratings.dtypes)+\"\\n\")\r\n",
        "print(\"Ratings head: \\n\" + str(ratings.columns)+\"\\n\")\r\n",
        "print(\"Ratings head: \\n\" + str(ratings.head())+\"\\n\")"
      ],
      "execution_count": null,
      "outputs": [
        {
          "output_type": "stream",
          "text": [
            "Ratings shape: (1149780, 3)\n",
            "\n",
            "Ratings types:\n",
            " User-ID         int64\n",
            "ISBN           object\n",
            "Book-Rating     int64\n",
            "dtype: object\n",
            "\n",
            "Ratings head: \n",
            "Index(['User-ID', 'ISBN', 'Book-Rating'], dtype='object')\n",
            "\n",
            "Ratings head: \n",
            "   User-ID        ISBN  Book-Rating\n",
            "0   276725  034545104X            0\n",
            "1   276726  0155061224            5\n",
            "2   276727  0446520802            0\n",
            "3   276729  052165615X            3\n",
            "4   276729  0521795028            6\n",
            "\n"
          ],
          "name": "stdout"
        }
      ]
    },
    {
      "cell_type": "markdown",
      "metadata": {
        "id": "0U5TEBC6Kovj"
      },
      "source": [
        "Modifico los ISBN, quitando caracteres no alphanuméricos<br>\r\n",
        "Limpio la tabla de ratings eliminando:\r\n",
        "*   Ratings cuyo User-ID no esté  entre 1 y 278858\r\n",
        "*   Líneas duplicadas\r\n",
        "*   Líneas cuyo Book-Ratings no esté entre 0 y 10 <br>"
      ]
    },
    {
      "cell_type": "code",
      "metadata": {
        "id": "5-1MmTxi_Ep3"
      },
      "source": [
        "ratings_before = ratings.shape[0]\r\n",
        "ratings.drop_duplicates(keep = False, inplace = True)\r\n",
        "ratings[\"ISBN\"] = ratings[\"ISBN\"].str.replace(r'[^\\w\\d]+', '')\r\n",
        "ratings.where((ratings[\"Book-Rating\"]>=0) & (ratings[\"Book-Rating\"]<=10), inplace=True)\r\n",
        "ratings.where((ratings[\"User-ID\"]>=1) & (ratings[\"User-ID\"]<=278858), inplace=True)"
      ],
      "execution_count": null,
      "outputs": []
    },
    {
      "cell_type": "code",
      "metadata": {
        "colab": {
          "base_uri": "https://localhost:8080/"
        },
        "id": "ruu3W_94Kbsz",
        "outputId": "ab414058-03d7-4f3e-c3a6-e8e47c31d87b"
      },
      "source": [
        "print(\"Ratings eliminados: \"+str(ratings_before - ratings.shape[0])+\" ratings\")"
      ],
      "execution_count": null,
      "outputs": [
        {
          "output_type": "stream",
          "text": [
            "Ratings eliminados: 0 ratings\n"
          ],
          "name": "stdout"
        }
      ]
    },
    {
      "cell_type": "markdown",
      "metadata": {
        "id": "7bUwYisB9lWu"
      },
      "source": [
        "#Limpieza de Books"
      ]
    },
    {
      "cell_type": "code",
      "metadata": {
        "colab": {
          "base_uri": "https://localhost:8080/"
        },
        "id": "SJoKwTFzxKB_",
        "outputId": "546c0401-ffe6-49d9-f22a-d9fceba0e509"
      },
      "source": [
        "print(\"Books shape: \" + str(books.shape)+\"\\n\")\r\n",
        "print(\"Books types:\\n \" + str(books.dtypes)+\"\\n\")\r\n",
        "print(\"Books head: \\n\" + str(books.columns)+\"\\n\")\r\n",
        "print(\"Books head: \\n\" + str(books.head())+\"\\n\")"
      ],
      "execution_count": null,
      "outputs": [
        {
          "output_type": "stream",
          "text": [
            "Books shape: (271379, 8)\n",
            "\n",
            "Books types:\n",
            " ISBN                   object\n",
            "Book-Title             object\n",
            "Book-Author            object\n",
            "Year-Of-Publication     int64\n",
            "Publisher              object\n",
            "Image-URL-S            object\n",
            "Image-URL-M            object\n",
            "Image-URL-L            object\n",
            "dtype: object\n",
            "\n",
            "Books head: \n",
            "Index(['ISBN', 'Book-Title', 'Book-Author', 'Year-Of-Publication', 'Publisher',\n",
            "       'Image-URL-S', 'Image-URL-M', 'Image-URL-L'],\n",
            "      dtype='object')\n",
            "\n",
            "Books head: \n",
            "         ISBN  ...                                        Image-URL-L\n",
            "0  0195153448  ...  http://images.amazon.com/images/P/0195153448.0...\n",
            "1  0002005018  ...  http://images.amazon.com/images/P/0002005018.0...\n",
            "2  0060973129  ...  http://images.amazon.com/images/P/0060973129.0...\n",
            "3  0374157065  ...  http://images.amazon.com/images/P/0374157065.0...\n",
            "4  0393045218  ...  http://images.amazon.com/images/P/0393045218.0...\n",
            "\n",
            "[5 rows x 8 columns]\n",
            "\n"
          ],
          "name": "stdout"
        }
      ]
    },
    {
      "cell_type": "markdown",
      "metadata": {
        "id": "uzOWCcHZL5To"
      },
      "source": [
        "Boto las columnas de imagenes de la tabla Books. <br>\r\n",
        "Luego, elimino líneas con ISBN duplicados y limpio el ISBN de la misma manera que para Ratings<br>\r\n",
        "Por último, indexo la tabla books por el ISBN"
      ]
    },
    {
      "cell_type": "code",
      "metadata": {
        "id": "X0WWgo0h_I4N"
      },
      "source": [
        "books.drop([\"Image-URL-S\",\"Image-URL-M\",\"Image-URL-L\"],inplace=True, axis=1)\r\n",
        "books.drop_duplicates(subset =\"ISBN\", keep = \"first\", inplace = True)\r\n",
        "books[\"ISBN\"] = books[\"ISBN\"].str.replace(r'[^\\w\\d]+', '')\r\n",
        "books.set_index([\"ISBN\"], inplace=True)"
      ],
      "execution_count": null,
      "outputs": []
    },
    {
      "cell_type": "markdown",
      "metadata": {
        "id": "N0hYHXlRL-3P"
      },
      "source": [
        "Remplazo el año de publicación por 0 si el año es superior a 2004"
      ]
    },
    {
      "cell_type": "code",
      "metadata": {
        "id": "_iVlyItFMNjD"
      },
      "source": [
        "books.loc[books['Year-Of-Publication'] > 2004, 'Year-Of-Publication'] = 0"
      ],
      "execution_count": null,
      "outputs": []
    },
    {
      "cell_type": "markdown",
      "metadata": {
        "id": "-xo8n1yvLddM"
      },
      "source": [
        "# Reducción de dimension"
      ]
    },
    {
      "cell_type": "markdown",
      "metadata": {
        "id": "Nuns5aZDMN6C"
      },
      "source": [
        "Elimino usuarios que no hayan dejado ratings"
      ]
    },
    {
      "cell_type": "code",
      "metadata": {
        "id": "O_eo6MEq_WSP"
      },
      "source": [
        "users_before = users.shape[0]\r\n",
        "users = users[users.index.isin(ratings[\"User-ID\"])]"
      ],
      "execution_count": null,
      "outputs": []
    },
    {
      "cell_type": "code",
      "metadata": {
        "colab": {
          "base_uri": "https://localhost:8080/"
        },
        "id": "M31GA7nsLvh2",
        "outputId": "6db70482-e137-435d-da5b-c060b46e4d83"
      },
      "source": [
        "print(\"Users eliminados: \"+str(users_before - users.shape[0])+\" users\")"
      ],
      "execution_count": null,
      "outputs": [
        {
          "output_type": "stream",
          "text": [
            "Users eliminados: 170642 users\n"
          ],
          "name": "stdout"
        }
      ]
    },
    {
      "cell_type": "markdown",
      "metadata": {
        "id": "YhAQUUZYMYcd"
      },
      "source": [
        "Elimino ratings de libros que no estén en la tabla books"
      ]
    },
    {
      "cell_type": "code",
      "metadata": {
        "id": "7NEkuQJC_aLJ"
      },
      "source": [
        "ratings_before = ratings.shape[0]\r\n",
        "ratings = ratings[ratings[\"ISBN\"].isin(books.index)]"
      ],
      "execution_count": null,
      "outputs": []
    },
    {
      "cell_type": "code",
      "metadata": {
        "colab": {
          "base_uri": "https://localhost:8080/"
        },
        "id": "MfvRAxXIMXIU",
        "outputId": "c7c2d5a3-62c1-4c4b-ae93-d26f308e3d00"
      },
      "source": [
        "print(\"Ratings eliminados: \"+str(ratings_before - ratings.shape[0])+\" ratings \\n\")"
      ],
      "execution_count": null,
      "outputs": [
        {
          "output_type": "stream",
          "text": [
            "Ratings eliminados: 118269 ratings \n",
            "\n"
          ],
          "name": "stdout"
        }
      ]
    },
    {
      "cell_type": "markdown",
      "metadata": {
        "id": "BjiKWJL_MfQW"
      },
      "source": [
        "# Plots y stats"
      ]
    },
    {
      "cell_type": "markdown",
      "metadata": {
        "id": "tCPT8TcCM9lI"
      },
      "source": [
        "<u>Usuarios por edad</u>"
      ]
    },
    {
      "cell_type": "code",
      "metadata": {
        "colab": {
          "base_uri": "https://localhost:8080/",
          "height": 489
        },
        "id": "F_59I7Bi_dFk",
        "outputId": "29ceb563-b1f5-4cdd-de24-0f9391519442"
      },
      "source": [
        "age_by_user = users.where(users['Age']>0).groupby([\"Age\"] ,as_index=False).size().astype(int)\r\n",
        "ax = age_by_user.plot(x='Age', y='size', kind=\"bar\")\r\n",
        "every_nth = 5\r\n",
        "\r\n",
        "for n, label in enumerate(ax.xaxis.get_ticklabels()):\r\n",
        "    if n % every_nth != 0:\r\n",
        "        label.set_visible(False)\r\n",
        "plt.show()\r\n",
        "\r\n",
        "ages_quartiles = users[users['Age']>0].quantile([0.25,0.5,0.75])['Age'].values\r\n",
        "print(\"25% de los usuarios tiene entre 12 y \" +str(int(ages_quartiles[0])) + ' años\\n')\r\n",
        "print(\"50% de los usuarios tiene entre 12 y \" +str(int(ages_quartiles[1])) + ' años\\n')\r\n",
        "print(\"75% de los usuarios tiene entre 12 y \" +str(int(ages_quartiles[2])) + ' años\\n')\r\n",
        "print(\"50% de los usuarios tiene entre \"+str(int(ages_quartiles[0]))+\" y \" +str(int(ages_quartiles[2])) + ' años\\n')\r\n",
        "print(\"La mayoría de usuarios (\"+str(age_by_user['size'].max())+\") tienen \"+ str(age_by_user[age_by_user['size'] == age_by_user['size'].max()]['Age'].values[0])+\" años \\n\")\r\n",
        "print(\"Edad promedio: \" + str(round(users[users['Age']>0].mean().values[0]))+\" años\")\r\n",
        "print(\"Usuarios que no ingresaron su edad: \" + str(users[users['Age']==0].shape[0]) + \" (\"+str(round(users[users['Age']==0].shape[0]*100/users.shape[0]))+\"% de los usuarios)\")"
      ],
      "execution_count": null,
      "outputs": [
        {
          "output_type": "display_data",
          "data": {
            "image/png": "[encoded data removed]",
            "text/plain": [
              "<Figure size 432x288 with 1 Axes>"
            ]
          },
          "metadata": {
            "tags": [],
            "needs_background": "light"
          }
        },
        {
          "output_type": "stream",
          "text": [
            "25% de los usuarios tiene entre 12 y 25 años\n",
            "\n",
            "50% de los usuarios tiene entre 12 y 33 años\n",
            "\n",
            "75% de los usuarios tiene entre 12 y 45 años\n",
            "\n",
            "50% de los usuarios tiene entre 25 y 45 años\n",
            "\n",
            "La mayoría de usuarios (1918) tienen 26 años \n",
            "\n",
            "Edad promedio: 36 años\n",
            "Usuarios que no ingresaron su edad: 41643 (41% de los usuarios)\n"
          ],
          "name": "stdout"
        }
      ]
    },
    {
      "cell_type": "markdown",
      "metadata": {
        "id": "uYE_ptfmZORy"
      },
      "source": [
        "<u>Usuarios por país</u>"
      ]
    },
    {
      "cell_type": "code",
      "metadata": {
        "colab": {
          "base_uri": "https://localhost:8080/",
          "height": 653
        },
        "id": "i17KtS-N_e_o",
        "outputId": "c6bbc562-a145-46c4-8e49-74978557308c"
      },
      "source": [
        "users_by_country = users.groupby([\"Country\"], as_index=False).size()\r\n",
        "users_by_country.sort_values(by=[\"size\"], ascending=False).head(15).plot(x='Country', y='size', kind=\"bar\")\r\n",
        "plt.show()\r\n",
        "\r\n",
        "ax = users_by_country.sort_values(by=[\"size\"], ascending=False).plot(x='Country', y='size', kind=\"bar\")\r\n",
        "ax.set_yscale('log')\r\n",
        "plt.tick_params(axis='x', which='both',bottom=False,top=False, labelbottom=False)\r\n",
        "plt.show()\r\n",
        "\r\n",
        "print(\"La mayoría de usuarios (\"+str( round(users_by_country['size'].max()/users.shape[0]*100) )+\"%) viven en \"+ str(users_by_country[users_by_country['size'] == users_by_country['size'].max()]['Country'].values[0])+\" \\n\")\r\n",
        "print(str(round( (users_by_country[users_by_country['Country'] == ' usa']['size'].values[0] + users_by_country[users_by_country['Country'] == ' canada']['size'].values[0]+ users_by_country[users_by_country['Country'] == ' germany']['size'].values[0])/users.shape[0]*100 ))+ \"% de los usuarios viven en 3 paises\" )\r\n"
      ],
      "execution_count": null,
      "outputs": [
        {
          "output_type": "display_data",
          "data": {
            "image/png": "[encoded data removed]",
            "text/plain": [
              "<Figure size 432x288 with 1 Axes>"
            ]
          },
          "metadata": {
            "tags": [],
            "needs_background": "light"
          }
        },
        {
          "output_type": "display_data",
          "data": {
            "image/png": "[encoded data removed]",
            "text/plain": [
              "<Figure size 432x288 with 1 Axes>"
            ]
          },
          "metadata": {
            "tags": [],
            "needs_background": "light"
          }
        },
        {
          "output_type": "stream",
          "text": [
            "La mayoría de usuarios (59%) viven en  usa \n",
            "\n",
            "75% de los usuarios viven en 3 paises\n"
          ],
          "name": "stdout"
        }
      ]
    },
    {
      "cell_type": "markdown",
      "metadata": {
        "id": "oTSE64wkcgMl"
      },
      "source": [
        "<u>Ratings por libro</u>"
      ]
    },
    {
      "cell_type": "code",
      "metadata": {
        "colab": {
          "base_uri": "https://localhost:8080/",
          "height": 576
        },
        "id": "FMEYWhs4_gh3",
        "outputId": "03f4f02c-76ae-4d45-9585-99cca86fdb36"
      },
      "source": [
        "reviews_count = ratings.groupby(['ISBN'],as_index=False).size()\r\n",
        "reviews_count.sort_values(by=[\"size\"], ascending=False).head(50).plot(y='size', kind=\"bar\")\r\n",
        "ax = reviews_count.sort_values(by=[\"size\"], ascending=False).plot(use_index=False,y='size', kind=\"line\")\r\n",
        "ax.set_yscale('log')\r\n",
        "plt.tick_params(axis='x', which='both',bottom=False,top=False, labelbottom=False)\r\n",
        "\r\n",
        "plt.plot()\r\n",
        "\r\n",
        "centiles = reviews_count.quantile([.95])\r\n",
        "print(\"95% de los libros tienen menos de \"+str(centiles.iloc[0]['size'])+ \" ratings\")\r\n",
        "print(\"Un libro tiene en promedio \"+ str(round(reviews_count['size'].mean()))+\" ratings\")\r\n",
        "print(\"Max: \"+str(reviews_count['size'].max()))"
      ],
      "execution_count": null,
      "outputs": [
        {
          "output_type": "stream",
          "text": [
            "95% de los libros tienen menos de 12.0 ratings\n",
            "Un libro tiene en promedio 4 ratings\n",
            "Max: 2502\n"
          ],
          "name": "stdout"
        },
        {
          "output_type": "display_data",
          "data": {
            "image/png": "[encoded data removed]",
            "text/plain": [
              "<Figure size 432x288 with 1 Axes>"
            ]
          },
          "metadata": {
            "tags": [],
            "needs_background": "light"
          }
        },
        {
          "output_type": "display_data",
          "data": {
            "image/png": "[encoded data removed]",
            "text/plain": [
              "<Figure size 432x288 with 1 Axes>"
            ]
          },
          "metadata": {
            "tags": [],
            "needs_background": "light"
          }
        }
      ]
    },
    {
      "cell_type": "markdown",
      "metadata": {
        "id": "qZ2OAz79cfT0"
      },
      "source": [
        "<u>Usuarios por rating</u>"
      ]
    },
    {
      "cell_type": "code",
      "metadata": {
        "colab": {
          "base_uri": "https://localhost:8080/",
          "height": 519
        },
        "id": "PpAG9153_iKW",
        "outputId": "f5493929-bf72-4718-c474-a7602562e966"
      },
      "source": [
        "users_by_rating = ratings.groupby(['User-ID'], as_index=False).size()\r\n",
        "users_by_rating.sort_values(by=['size'],ascending=False).head(50).plot(y='size', kind=\"bar\")\r\n",
        "plt.tick_params(axis='x', which='both',bottom=False,top=False, labelbottom=False)\r\n",
        "ax = users_by_rating.sort_values(by=['size'],ascending=False).plot(use_index=False, y='size',kind=\"line\")\r\n",
        "ax.set_yscale('log')\r\n",
        "plt.tick_params(axis='x', which='both',bottom=False,top=False, labelbottom=False)\r\n",
        "plt.show()\r\n",
        "users_by_rating_centiles = users_by_rating.quantile([.75])\r\n",
        "print(\"75% de los usuarios han dejado \"+str(users_by_rating_centiles.iloc[0]['size'])+ \" ratings o menos\")\r\n",
        "print(\"Max: \" +str(users_by_rating['size'].max()))"
      ],
      "execution_count": null,
      "outputs": [
        {
          "output_type": "display_data",
          "data": {
            "image/png": "[encoded data removed]",
            "text/plain": [
              "<Figure size 432x288 with 1 Axes>"
            ]
          },
          "metadata": {
            "tags": [],
            "needs_background": "light"
          }
        },
        {
          "output_type": "display_data",
          "data": {
            "image/png": "[encoded data removed]",
            "text/plain": [
              "<Figure size 432x288 with 1 Axes>"
            ]
          },
          "metadata": {
            "tags": [],
            "needs_background": "light"
          }
        },
        {
          "output_type": "stream",
          "text": [
            "75% de los usuarios han dejado 4.0 ratings o menos\n",
            "Max: 11153\n"
          ],
          "name": "stdout"
        }
      ]
    },
    {
      "cell_type": "code",
      "metadata": {
        "colab": {
          "base_uri": "https://localhost:8080/",
          "height": 846
        },
        "id": "TU0XQwjSk-I1",
        "outputId": "bc166b19-a6d5-4d8e-d628-99e5b8adc4b1"
      },
      "source": [
        "ratings_by_users = ratings.groupby(['Book-Rating'], as_index=False).size()\r\n",
        "ratings_by_users[ratings_by_users['Book-Rating']>0].sort_values(by=['Book-Rating'],ascending=True).plot(xlabel=\"Rating\",y='size', kind=\"bar\")\r\n",
        "ratings_by_users[ratings_by_users['Book-Rating']==0].sort_values(by=['Book-Rating'],ascending=True).plot( xlabel=\"Likes\", y='size', kind=\"bar\")\r\n",
        "ratings.head(1000).plot.scatter(x=\"ISBN\",y=\"Book-Rating\", c='User-ID', colormap='tab20b',ylabel=\"Rating\")\r\n",
        "plt.show() \r\n",
        "\r\n",
        "print(\"Media ponderada: \"+str( round((ratings_by_users[ratings_by_users[\"Book-Rating\"]!=0][\"Book-Rating\"] * ratings_by_users[ratings_by_users[\"Book-Rating\"]!=0][\"size\"]).sum() / ratings_by_users[ratings_by_users[\"Book-Rating\"]!=0][\"size\"].sum(),2))+\"\\n\")\r\n",
        "print(\"Hay \"+str(ratings_by_users[ratings_by_users['Book-Rating']==0][\"size\"].values[0])+\" likes\")\r\n",
        "print(str(round(ratings_by_users[ratings_by_users['Book-Rating']==0][\"size\"].values[0]*100/ratings_by_users['size'].sum()))+\"% de los ratings son likes\")"
      ],
      "execution_count": null,
      "outputs": [
        {
          "output_type": "display_data",
          "data": {
            "image/png": "[encoded data removed]",
            "text/plain": [
              "<Figure size 432x288 with 1 Axes>"
            ]
          },
          "metadata": {
            "tags": [],
            "needs_background": "light"
          }
        },
        {
          "output_type": "display_data",
          "data": {
            "image/png": "[encoded data removed]",
            "text/plain": [
              "<Figure size 432x288 with 1 Axes>"
            ]
          },
          "metadata": {
            "tags": [],
            "needs_background": "light"
          }
        },
        {
          "output_type": "display_data",
          "data": {
            "image/png": "[encoded data removed]",
            "text/plain": [
              "<Figure size 432x288 with 2 Axes>"
            ]
          },
          "metadata": {
            "tags": [],
            "needs_background": "light"
          }
        },
        {
          "output_type": "stream",
          "text": [
            "Media ponderada: 7.63\n",
            "\n",
            "Hay 647476 likes\n",
            "63% de los ratings son likes\n"
          ],
          "name": "stdout"
        }
      ]
    },
    {
      "cell_type": "markdown",
      "metadata": {
        "id": "U__Oca0tc7c7"
      },
      "source": [
        "<u>Libros con más ratings</u>"
      ]
    },
    {
      "cell_type": "code",
      "metadata": {
        "colab": {
          "base_uri": "https://localhost:8080/"
        },
        "id": "3OMerW4r_j08",
        "outputId": "eaf07fb1-e96d-4a23-e7f3-ed2730f0aa00"
      },
      "source": [
        "print(\"Top 10 libros con más ratings: \")\r\n",
        "top_books_isbn = reviews_count.sort_values(by=['size'],ascending=False).head(10)['ISBN'].values.tolist()\r\n",
        "print(books.loc[top_books_isbn,[\"Book-Title\",\"Book-Author\"]])"
      ],
      "execution_count": null,
      "outputs": [
        {
          "output_type": "stream",
          "text": [
            "Top 10 libros con más ratings: \n",
            "                                                   Book-Title     Book-Author\n",
            "ISBN                                                                         \n",
            "0971880107                                        Wild Animus    Rich Shapero\n",
            "0316666343                          The Lovely Bones: A Novel    Alice Sebold\n",
            "0385504209                                  The Da Vinci Code       Dan Brown\n",
            "0060928336    Divine Secrets of the Ya-Ya Sisterhood: A Novel   Rebecca Wells\n",
            "0312195516                The Red Tent (Bestselling Backlist)   Anita Diamant\n",
            "044023722X                                    A Painted House    John Grisham\n",
            "0142001740                            The Secret Life of Bees   Sue Monk Kidd\n",
            "067976402X                             Snow Falling on Cedars  David Guterson\n",
            "0671027360                                Angels &amp; Demons       Dan Brown\n",
            "0446672211  Where the Heart Is (Oprah's Book Club (Paperba...    Billie Letts\n"
          ],
          "name": "stdout"
        }
      ]
    },
    {
      "cell_type": "markdown",
      "metadata": {
        "id": "yqfe9DToc9it"
      },
      "source": [
        "<u>Libros con mejores ratings</u>"
      ]
    },
    {
      "cell_type": "code",
      "metadata": {
        "colab": {
          "base_uri": "https://localhost:8080/"
        },
        "id": "_CtfxdV1_oWS",
        "outputId": "863bf5f1-f781-41e3-d8f1-1f2b9c62c72c"
      },
      "source": [
        "print(\"Top 10 libros con mejores ratings: \")\r\n",
        "best_rated_books_isbn=ratings.groupby([\"Book-Rating\"],as_index=False).get_group(10).groupby(['ISBN'],as_index=False).size().sort_values(by=['size'], ascending=False)['ISBN'].values   \r\n",
        "if len(best_rated_books_isbn)>=10:\r\n",
        "    best_rated_books_isbn = best_rated_books_isbn[0:10]\r\n",
        "else:\r\n",
        "    raise Exception(\"10 rated group is too small, code something else\")\r\n",
        "    \r\n",
        "print(books.loc[best_rated_books_isbn,[\"Book-Title\",\"Book-Author\"]])"
      ],
      "execution_count": null,
      "outputs": [
        {
          "output_type": "stream",
          "text": [
            "Top 10 libros con mejores ratings: \n",
            "                                                   Book-Title    Book-Author\n",
            "ISBN                                                                        \n",
            "0385504209                                  The Da Vinci Code      Dan Brown\n",
            "059035342X  Harry Potter and the Sorcerer's Stone (Harry P...  J. K. Rowling\n",
            "0316666343                          The Lovely Bones: A Novel   Alice Sebold\n",
            "043935806X  Harry Potter and the Order of the Phoenix (Boo...  J. K. Rowling\n",
            "0446310786                              To Kill a Mockingbird     Harper Lee\n",
            "0312195516                The Red Tent (Bestselling Backlist)  Anita Diamant\n",
            "0142001740                            The Secret Life of Bees  Sue Monk Kidd\n",
            "0439139597       Harry Potter and the Goblet of Fire (Book 4)  J. K. Rowling\n",
            "0439136350  Harry Potter and the Prisoner of Azkaban (Book 3)  J. K. Rowling\n",
            "0385484518  Tuesdays with Morrie: An Old Man, a Young Man,...    MITCH ALBOM\n"
          ],
          "name": "stdout"
        }
      ]
    },
    {
      "cell_type": "markdown",
      "metadata": {
        "id": "oDAeU3TEFxPH"
      },
      "source": [
        "<u>Libros por año de publicación</u>"
      ]
    },
    {
      "cell_type": "code",
      "metadata": {
        "colab": {
          "base_uri": "https://localhost:8080/",
          "height": 329
        },
        "id": "TA4qNDDEF1HU",
        "outputId": "5c2c80e1-dad2-4046-9424-1d0640a488f4"
      },
      "source": [
        "books_by_year = books.groupby([\"Year-Of-Publication\"]).size()\r\n",
        "ax = books_by_year.plot(xlabel=\"Year-Of-Publication\",y='size', kind=\"bar\")\r\n",
        "every_nth = 5\r\n",
        "\r\n",
        "for n, label in enumerate(ax.xaxis.get_ticklabels()):\r\n",
        "    if n % every_nth != 0:\r\n",
        "        label.set_visible(False)\r\n",
        "plt.show()\r\n",
        "books_by_year_centiles = books['Year-Of-Publication'].quantile([0.1,0.9])\r\n",
        "print(\"80% de los libros fueron publicados entre \"+str(int(books_by_year_centiles.values[0]))+\" y \"+str(int(books_by_year_centiles.values[1])))\r\n",
        "print(\"Libros sin año registrado:\"+str(books[books[\"Year-Of-Publication\"]==0].shape[0])+\" (\"+str(round(books[books[\"Year-Of-Publication\"]==0].shape[0]*100/books.shape[0] )) +\"%)\")\r\n"
      ],
      "execution_count": null,
      "outputs": [
        {
          "output_type": "display_data",
          "data": {
            "image/png": "[encoded data removed]",
            "text/plain": [
              "<Figure size 432x288 with 1 Axes>"
            ]
          },
          "metadata": {
            "tags": [],
            "needs_background": "light"
          }
        },
        {
          "output_type": "stream",
          "text": [
            "80% de los libros fueron publicados entre 1982 y 2002\n",
            "Libros sin año registrado:4691 (2%)\n"
          ],
          "name": "stdout"
        }
      ]
    },
    {
      "cell_type": "markdown",
      "metadata": {
        "id": "N1QAKXVeOJyf"
      },
      "source": [
        "<u>Editoriales con mas libros</u>"
      ]
    },
    {
      "cell_type": "code",
      "metadata": {
        "colab": {
          "base_uri": "https://localhost:8080/",
          "height": 412
        },
        "id": "-rROWfT_OMgA",
        "outputId": "19013b2b-b845-4fb3-b178-22faff5bc194"
      },
      "source": [
        "books_by_publisher = books.groupby([\"Publisher\"]).size()\r\n",
        "books_by_publisher.sort_values(ascending=False).head(25).plot(y='size', kind=\"bar\")\r\n",
        "plt.show()\r\n",
        "print(\"En promedio, una editorial ha publicado: \" + str(round(books_by_publisher.mean(),2))+\" libros\")"
      ],
      "execution_count": null,
      "outputs": [
        {
          "output_type": "display_data",
          "data": {
            "image/png": "[encoded data removed]",
            "text/plain": [
              "<Figure size 432x288 with 1 Axes>"
            ]
          },
          "metadata": {
            "tags": [],
            "needs_background": "light"
          }
        },
        {
          "output_type": "stream",
          "text": [
            "En promedio, una editorial ha publicado: 16.15 libros\n"
          ],
          "name": "stdout"
        }
      ]
    },
    {
      "cell_type": "markdown",
      "metadata": {
        "id": "2rZilS4mOaad"
      },
      "source": [
        "<u>Autores con más libros</u>"
      ]
    },
    {
      "cell_type": "code",
      "metadata": {
        "colab": {
          "base_uri": "https://localhost:8080/",
          "height": 279
        },
        "id": "hjNSGPQMOdpk",
        "outputId": "11747ca4-26a0-4162-edab-943e5a80194d"
      },
      "source": [
        "books_by_author = books.groupby([\"Book-Author\"]).size()\r\n",
        "books_by_author.sort_values(ascending=False).head(100).plot(xlabel=\"Book-Author\",y='size', kind=\"bar\")\r\n",
        "plt.tick_params(axis='x', which='both',bottom=False,top=False, labelbottom=False)\r\n",
        "plt.show()\r\n",
        "print(\"En promedio, un autor ha escrito: \" + str(round(books_by_author.mean(),2))+\" libros\")"
      ],
      "execution_count": null,
      "outputs": [
        {
          "output_type": "display_data",
          "data": {
            "image/png": "[encoded data removed]",
            "text/plain": [
              "<Figure size 432x288 with 1 Axes>"
            ]
          },
          "metadata": {
            "tags": [],
            "needs_background": "light"
          }
        },
        {
          "output_type": "stream",
          "text": [
            "En promedio, un autor ha escrito: 2.66 libros\n"
          ],
          "name": "stdout"
        }
      ]
    },
    {
      "cell_type": "markdown",
      "metadata": {
        "id": "04arg9H4hb6v"
      },
      "source": [
        "<u>Recapitulativo:</u>"
      ]
    },
    {
      "cell_type": "code",
      "metadata": {
        "colab": {
          "base_uri": "https://localhost:8080/"
        },
        "id": "HinjjQu3hftQ",
        "outputId": "7b2f5349-d65d-45a2-df01-35e989d76579"
      },
      "source": [
        "print(\"Total de libros: \"+ str(books.shape[0]) + \" libros \\n\")\r\n",
        "print(\"Total libros con ratings: \"+ str(reviews_count.shape[0])+\" libros \\n\")\r\n",
        "print(\"Total de usuarios: \" + str(users.shape[0])+\" usuarios \\n\")\r\n",
        "print(\"Total ratings: \" + str(ratings.shape[0])+ \" ratings\")"
      ],
      "execution_count": null,
      "outputs": [
        {
          "output_type": "stream",
          "text": [
            "Total de libros: 271379 libros \n",
            "\n",
            "Total libros con ratings: 270172 libros \n",
            "\n",
            "Total de usuarios: 101420 usuarios \n",
            "\n",
            "Total ratings: 1031511 ratings\n"
          ],
          "name": "stdout"
        }
      ]
    },
    {
      "cell_type": "code",
      "metadata": {
        "colab": {
          "base_uri": "https://localhost:8080/"
        },
        "id": "kDi7Oyp7_thC",
        "outputId": "1add8bc8-d5bb-49d2-c56c-70df02d2cbc8"
      },
      "source": [
        "print(str(round(reviews_count[reviews_count['size'].astype(float)>=centiles.iloc[0]['size']].sort_values(by=['size'],ascending=False).head(reviews_count[reviews_count['size'].astype(float)>=centiles.iloc[0]['size']].shape[0])['size'].sum()/ratings.shape[0]*100)) + \"% de los ratings están alojados en 5% del total de los libros \\n\" )\r\n",
        "print(str(reviews_count[reviews_count['size'].astype(float)>=centiles.iloc[0]['size']].shape[0])+\" of \"+ str(reviews_count.shape[0]) + \" libros tienen más de \" +str(int(centiles.iloc[0]['size']))+ \" ratings \\n\")"
      ],
      "execution_count": null,
      "outputs": [
        {
          "output_type": "stream",
          "text": [
            "47% de los ratings están alojados en 5% del total de los libros \n",
            "\n",
            "13845 of 270172 libros tienen más de 12 ratings \n",
            "\n"
          ],
          "name": "stdout"
        }
      ]
    },
    {
      "cell_type": "markdown",
      "metadata": {
        "id": "8ZGPRgqC3xlv"
      },
      "source": [
        "#Sistema de recomendación"
      ]
    },
    {
      "cell_type": "markdown",
      "metadata": {
        "id": "dc1umhNc0PQw"
      },
      "source": [
        "<u>Obtención de nearest neighbors</u>"
      ]
    },
    {
      "cell_type": "code",
      "metadata": {
        "id": "Rf7wZms3hx7y"
      },
      "source": [
        "def neighbors(user_sim,pd_matrix,csr_matrix,nbrs):\r\n",
        "  query_indexes = pd_matrix.reset_index()[pd_matrix.reset_index()[pd_matrix.reset_index().columns.values[0]].isin(user_sim)].index.values\r\n",
        "  distances, indices = nbrs.kneighbors(csr_matrix[query_indexes])\r\n",
        "  vecinos = np.array([pd_matrix.reset_index().iloc[x][pd_matrix.reset_index().columns.values[0]].values for x in [i for i in indices]])\r\n",
        "  return (vecinos,distances)"
      ],
      "execution_count": null,
      "outputs": []
    },
    {
      "cell_type": "markdown",
      "metadata": {
        "id": "VmiMAUNJ30pE"
      },
      "source": [
        "<u>Tratamiento</u>"
      ]
    },
    {
      "cell_type": "markdown",
      "metadata": {
        "id": "F5H6RuDIF9H4"
      },
      "source": [
        "Eliminar usuarios inactivos (4 books calificados o menos) ~aprox. 75% <br>\r\n",
        "Eliminar libros poco o muy populares (12 ratings o menos, 400 ratings o mas) ~aprox. 95%"
      ]
    },
    {
      "cell_type": "code",
      "metadata": {
        "id": "3vqa0g8CGHDM"
      },
      "source": [
        "active_users = users[users.index.isin(users_by_rating[users_by_rating['size']>4]['User-ID'])]\r\n",
        "\r\n",
        "active_books = books[books.index.isin(reviews_count[(reviews_count['size']>42) & (reviews_count['size']<400)]['ISBN'])]\r\n",
        "\r\n",
        "active_ratings = ratings[ratings['User-ID'].isin(active_users.index)]\r\n",
        "active_ratings = active_ratings[active_ratings['ISBN'].isin(active_books.index)]"
      ],
      "execution_count": null,
      "outputs": []
    },
    {
      "cell_type": "code",
      "metadata": {
        "colab": {
          "base_uri": "https://localhost:8080/"
        },
        "id": "5OEMd89kJGo2",
        "outputId": "ae726128-74eb-484b-d76f-e90deda86afb"
      },
      "source": [
        "print(\"Usuarios activos: \"+str(active_users.shape[0]))\r\n",
        "print(\"Libros activos: \"+str(active_books.shape[0]))\r\n",
        "print(\"Ratings activos: \"+str(active_ratings.shape[0]))"
      ],
      "execution_count": null,
      "outputs": [
        {
          "output_type": "stream",
          "text": [
            "Usuarios activos: 19555\n",
            "Libros activos: 222\n",
            "Ratings activos: 14151\n"
          ],
          "name": "stdout"
        }
      ]
    },
    {
      "cell_type": "markdown",
      "metadata": {
        "id": "EdEW91cKo5o5"
      },
      "source": [
        "<u><b>User-User Collaborative filter</b></u>"
      ]
    },
    {
      "cell_type": "markdown",
      "metadata": {
        "id": "YMqqpccRJq53"
      },
      "source": [
        "<u>User-Item Matrix</u> <br>\r\n",
        "También añado el país y la edad de cada usuario, ya que sirve para buscar similitudes entre ellos. <br>\r\n",
        "Decidí quitar la ciudad y la region porque puede overfit el sistema."
      ]
    },
    {
      "cell_type": "code",
      "metadata": {
        "colab": {
          "base_uri": "https://localhost:8080/"
        },
        "id": "jotTDf_YJtGr",
        "outputId": "54aa22ff-92e1-48cb-d107-c2bec1452100"
      },
      "source": [
        "user_item_matrix = active_ratings.pivot_table(index=\"ISBN\",columns=\"User-ID\",values=\"Book-Rating\")\r\n",
        "user_age_country = users[users.index.isin(active_ratings['User-ID'])].drop(columns=[\"City\",\"Region\"])\r\n",
        "user_age_country['Country'] = user_age_country['Country'].factorize()[0]\r\n",
        "user_age_country['Country'] += 1\r\n",
        "user_age_country = user_age_country.transpose()\r\n",
        "user_item_matrix = pd.concat([user_age_country,user_item_matrix]).transpose().astype(float).fillna(-1)\r\n",
        "csr_user_item_matrix = csr_matrix(user_item_matrix.values)\r\n",
        "print(user_item_matrix)"
      ],
      "execution_count": null,
      "outputs": [
        {
          "output_type": "stream",
          "text": [
            "          Age  Country  0028604199  ...  1573228214  1857022424  1931561648\n",
            "User-ID                             ...                                    \n",
            "165      62.0      1.0        -1.0  ...        -1.0        -1.0        -1.0\n",
            "243       0.0      1.0        -1.0  ...        -1.0        -1.0        -1.0\n",
            "254      24.0      1.0        -1.0  ...        -1.0        -1.0        -1.0\n",
            "300       0.0      1.0        -1.0  ...        -1.0        -1.0        -1.0\n",
            "383       0.0      1.0        -1.0  ...        -1.0        -1.0        -1.0\n",
            "...       ...      ...         ...  ...         ...         ...         ...\n",
            "278545    0.0      1.0        -1.0  ...        -1.0        -1.0        -1.0\n",
            "278633    0.0      1.0        -1.0  ...        -1.0        -1.0        -1.0\n",
            "278771    0.0      1.0        -1.0  ...        -1.0        -1.0        -1.0\n",
            "278774   33.0      3.0        -1.0  ...        -1.0        -1.0        -1.0\n",
            "278843   28.0      1.0        -1.0  ...        -1.0        -1.0        -1.0\n",
            "\n",
            "[5293 rows x 224 columns]\n"
          ],
          "name": "stdout"
        }
      ]
    },
    {
      "cell_type": "markdown",
      "metadata": {
        "id": "yl38EcNb-lau"
      },
      "source": [
        "<u><b>Item-Item Collaborative Filtering</b></u>"
      ]
    },
    {
      "cell_type": "markdown",
      "metadata": {
        "id": "1RUZ6-kmUHzT"
      },
      "source": [
        "<u>Item-User Matrix</u> <br>\r\n",
        "También añado el año de publicación, el autor y la editorial de cada libro, ya que sirve para buscar similitudes entre ellos. <br>"
      ]
    },
    {
      "cell_type": "code",
      "metadata": {
        "colab": {
          "base_uri": "https://localhost:8080/"
        },
        "id": "AAdU-T8iTzUy",
        "outputId": "79b29f42-2f26-44e5-fca2-9cc89397fb46"
      },
      "source": [
        "item_user_matrix = active_ratings.pivot_table(index=\"User-ID\",columns=\"ISBN\",values=\"Book-Rating\")\r\n",
        "book_info = books[books.index.isin(active_ratings['ISBN'])].drop(columns=[\"Book-Title\"])\r\n",
        "book_info['Book-Author'] = book_info['Book-Author'].factorize()[0]\r\n",
        "book_info['Book-Author'] += 1\r\n",
        "book_info['Publisher'] = book_info['Publisher'].factorize()[0]\r\n",
        "book_info['Publisher'] += 1\r\n",
        "book_info = book_info.transpose()\r\n",
        "item_user_matrix = pd.concat([book_info,item_user_matrix]).fillna(-1).astype(int).transpose()\r\n",
        "csr_item_user_matrix = csr_matrix(item_user_matrix.values)\r\n",
        "print(item_user_matrix)"
      ],
      "execution_count": null,
      "outputs": [
        {
          "output_type": "stream",
          "text": [
            "            Book-Author  Year-Of-Publication  Publisher  ...  278771  278774  278843\n",
            "0441783589            1                 1987          1  ...      -1      -1      -1\n",
            "0061099325            2                 1992          2  ...      -1      -1      -1\n",
            "0446601640            3                 1994          3  ...      -1      -1      -1\n",
            "0449911004            4                 1996          4  ...      -1      -1      -1\n",
            "0375719180            5                 2002          5  ...      -1      -1      -1\n",
            "...                 ...                  ...        ...  ...     ...     ...     ...\n",
            "0552999458          157                 2002         76  ...      -1      -1      -1\n",
            "0553584375          158                 2003         18  ...      -1      -1      -1\n",
            "0446354732            9                 1995          3  ...      -1      -1      -1\n",
            "0553290789           11                 1999         18  ...      -1      -1      -1\n",
            "0310205719          159                 2002         77  ...      -1      -1      -1\n",
            "\n",
            "[222 rows x 5296 columns]\n"
          ],
          "name": "stdout"
        }
      ]
    },
    {
      "cell_type": "markdown",
      "metadata": {
        "id": "v0lGqDXrs57S"
      },
      "source": [
        "<u>Busqueda de K Nearest Neighbors</u>"
      ]
    },
    {
      "cell_type": "markdown",
      "metadata": {
        "id": "s1AELXBMtQ3J"
      },
      "source": [
        "<u>user-user</u>"
      ]
    },
    {
      "cell_type": "code",
      "metadata": {
        "id": "7on0Np8XyU5S",
        "colab": {
          "base_uri": "https://localhost:8080/"
        },
        "outputId": "7dd0930e-c551-437e-e18e-5aa7cbf877b6"
      },
      "source": [
        "user_nbrs = NearestNeighbors(metric='cosine', algorithm='brute', n_neighbors=15, n_jobs=-1).fit(csr_user_item_matrix)\r\n",
        "nearest_neighbors,distances = neighbors([165,300],user_item_matrix,csr_user_item_matrix,user_nbrs)\r\n",
        "\r\n",
        "print(nearest_neighbors)\r\n"
      ],
      "execution_count": null,
      "outputs": [
        {
          "output_type": "stream",
          "text": [
            "[[   165 213350 166409  41634   3977  37046  91058 174152 241565 240401\n",
            "  146890 136584  29867  24685 271398]\n",
            " [   300 190492 240906 231132  93312  60977  79366 193759 149661 108535\n",
            "   25700 109082 105672  25131 106417]]\n"
          ],
          "name": "stdout"
        }
      ]
    },
    {
      "cell_type": "markdown",
      "metadata": {
        "id": "5TGA4hRPtUcr"
      },
      "source": [
        "<u>item-item</u>"
      ]
    },
    {
      "cell_type": "code",
      "metadata": {
        "colab": {
          "base_uri": "https://localhost:8080/"
        },
        "id": "nD7fk2vDU-3C",
        "outputId": "88fcc1eb-fd8c-407a-b1ba-6c7ebb2bb9f1"
      },
      "source": [
        "\r\n",
        "item_nbrs = NearestNeighbors(metric='cosine', algorithm='brute', n_neighbors=15, n_jobs=-1).fit(csr_item_user_matrix)\r\n",
        "nearest_neighbors,distances = neighbors([\"0061099325\",\"0441783589\"],item_user_matrix,csr_item_user_matrix,item_nbrs)\r\n",
        "\r\n",
        "print(nearest_neighbors)\r\n"
      ],
      "execution_count": null,
      "outputs": [
        {
          "output_type": "stream",
          "text": [
            "[['0441783589' '0446602213' '0446350109' '0312963009' '0446601640'\n",
            "  '0345404777' '0446610178' '039914739X' '067103619X' '0061099325'\n",
            "  '0446354732' '0440224829' '0553576925' '0553285785' '0553290789']\n",
            " ['0061099325' '0446350109' '0312963009' '0446602213' '0345404777'\n",
            "  '0446601640' '067103619X' '0446354732' '0446610178' '039914739X'\n",
            "  '0440224829' '0553290789' '0553576925' '0553285785' '0451184718']]\n"
          ],
          "name": "stdout"
        }
      ]
    },
    {
      "cell_type": "code",
      "metadata": {
        "id": "tfZIe_D2WQw3"
      },
      "source": [
        ""
      ],
      "execution_count": null,
      "outputs": []
    }
  ]
}